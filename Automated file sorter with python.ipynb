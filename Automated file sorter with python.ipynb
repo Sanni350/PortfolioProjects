{
 "cells": [
  {
   "cell_type": "markdown",
   "id": "290230b9",
   "metadata": {},
   "source": [
    "# Automated File Sorter in File Explorer"
   ]
  },
  {
   "cell_type": "markdown",
   "id": "5a69848f",
   "metadata": {},
   "source": [
    "This is a python project on creating an authomatic file sorter"
   ]
  },
  {
   "cell_type": "code",
   "execution_count": 44,
   "id": "bac9243b",
   "metadata": {},
   "outputs": [],
   "source": [
    "#importing relevant libraries\n",
    "import os,shutil"
   ]
  },
  {
   "cell_type": "code",
   "execution_count": 45,
   "id": "1194d508",
   "metadata": {},
   "outputs": [],
   "source": [
    "#input ther files directory\n",
    "\n",
    "path =r\"C:\\Users\\SANI\\Documents\\python tutorial-file sorting\""
   ]
  },
  {
   "cell_type": "code",
   "execution_count": 46,
   "id": "0a74de89",
   "metadata": {},
   "outputs": [],
   "source": [
    "#change the default backward slash to forward slash to avoid creating the folders in the wrong place\n",
    "path =r\"C:/Users/SANI/Documents/python tutorial-file sorting/\""
   ]
  },
  {
   "cell_type": "code",
   "execution_count": 47,
   "id": "e868bfdd",
   "metadata": {},
   "outputs": [
    {
     "data": {
      "text/plain": [
       "['005 1.01.Simple-linear-regression.csv',\n",
       " '006 real-estate-price-size.csv',\n",
       " '1- Site clearence 02.jpg',\n",
       " 'default constraint.sql',\n",
       " 'estimate for histopathology.docx',\n",
       " 'estimate for old mosque.docx',\n",
       " 'Find and Find_All.ipynb',\n",
       " 'foreign key constraint assignment.sql',\n",
       " 'images (65).jpeg',\n",
       " 'images (81).jpeg',\n",
       " 'images (88a).jpeg',\n",
       " 'images (90a).jpeg',\n",
       " 'images (92).jpeg',\n",
       " 'images (97).jpeg',\n",
       " 'images - 2023-02-10T191751.109.jpeg',\n",
       " 'Inspecting Web Pages with HTML.ipynb',\n",
       " 'micheal query.docx',\n",
       " 'primary key constraints assignment.sql',\n",
       " 'Python Basics 101 - Comparison - Logical - Membership Operators.ipynb',\n",
       " 'Python Basics 101 - Converting Data Types.ipynb',\n",
       " 'Python Basics 101 - Creating, Reading, and Appending Files.ipynb',\n",
       " 'Python Basics 101 - Data Types.ipynb',\n",
       " 'razaq query.docx',\n",
       " 'reminder on cleaning matl.docx',\n",
       " 'report 2 hostel 2.docx',\n",
       " 'report for museum.docx',\n",
       " 'request for leave.docx',\n",
       " 'request for truck.docx',\n",
       " 'SQL Basics Create Table and Insert Into (1).txt',\n",
       " 'SQL Unions Tutorial.txt',\n",
       " 'Temp_Tables.txt',\n",
       " 'unique key constraint assignment.sql']"
      ]
     },
     "execution_count": 47,
     "metadata": {},
     "output_type": "execute_result"
    }
   ],
   "source": [
    "#list out all the files in the path directory\n",
    "os.listdir(path)"
   ]
  },
  {
   "cell_type": "code",
   "execution_count": 48,
   "id": "87d0061d",
   "metadata": {},
   "outputs": [],
   "source": [
    "file_name =os.listdir(path)"
   ]
  },
  {
   "cell_type": "code",
   "execution_count": 49,
   "id": "0cade3fe",
   "metadata": {},
   "outputs": [
    {
     "data": {
      "text/plain": [
       "False"
      ]
     },
     "execution_count": 49,
     "metadata": {},
     "output_type": "execute_result"
    }
   ],
   "source": [
    "#lets check if a particular folder already exist ('csv files' in the case)\n",
    "os.path.exists(path+'csv files')"
   ]
  },
  {
   "cell_type": "code",
   "execution_count": 51,
   "id": "0ade28b3",
   "metadata": {},
   "outputs": [],
   "source": [
    "#lets create our folders\n",
    "folder_names= ['csv files','image files','document files','text files', 'jupyter files','sql files']\n",
    "for loop in range(0,6):\n",
    "    if not os.path.exists(path+folder_names[loop]):\n",
    "        #print(path+folder_names[loop])\n",
    "        os.makedirs((path+folder_names[loop]))"
   ]
  },
  {
   "cell_type": "code",
   "execution_count": 52,
   "id": "efbb2a21",
   "metadata": {},
   "outputs": [],
   "source": [
    "#Now we need to move the files into their corresponding folders\n",
    "\n",
    "for file in file_name:\n",
    "    if '.csv' in file and not os.path.exists(path +'csv files/'+file):\n",
    "        shutil.move(path + file, path +'csv files/'+file)\n",
    "        \n",
    "    elif '.jpeg' in file and not os.path.exists(path +'image files/'+file):\n",
    "        shutil.move(path + file, path +'image files/'+file)\n",
    "        \n",
    "    elif '.jpg' in file and not os.path.exists(path +'image files/'+file):\n",
    "        shutil.move(path + file, path +'image files/'+file)\n",
    "        \n",
    "    elif '.docx' in file and not os.path.exists(path +'document files/'+file):\n",
    "        shutil.move(path + file, path +'document files/'+file)\n",
    "        \n",
    "    elif '.txt' in file and not os.path.exists(path +'text files/'+file):\n",
    "        shutil.move(path + file, path +'csv files/'+file)\n",
    "        \n",
    "    elif '.ipynb' in file and not os.path.exists(path +'jupyter files/'+file):\n",
    "        shutil.move(path + file, path +'jupyter files/'+file)\n",
    "        \n",
    "    elif '.sql' in file and not os.path.exists(path +'sql files/'+file):\n",
    "        shutil.move(path + file, path +'sql files/'+file)"
   ]
  },
  {
   "cell_type": "code",
   "execution_count": null,
   "id": "a4906d4f",
   "metadata": {},
   "outputs": [],
   "source": []
  },
  {
   "cell_type": "code",
   "execution_count": null,
   "id": "01dd1bf9",
   "metadata": {},
   "outputs": [],
   "source": [
    "#the automation go into the specified directory\n",
    "#create the folders requested \n",
    "#check what type of file each file is\n",
    "#then sort them accordingly"
   ]
  }
 ],
 "metadata": {
  "kernelspec": {
   "display_name": "Python 3 (ipykernel)",
   "language": "python",
   "name": "python3"
  },
  "language_info": {
   "codemirror_mode": {
    "name": "ipython",
    "version": 3
   },
   "file_extension": ".py",
   "mimetype": "text/x-python",
   "name": "python",
   "nbconvert_exporter": "python",
   "pygments_lexer": "ipython3",
   "version": "3.9.13"
  }
 },
 "nbformat": 4,
 "nbformat_minor": 5
}
