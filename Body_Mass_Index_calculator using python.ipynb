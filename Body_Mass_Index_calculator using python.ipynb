{
 "cells": [
  {
   "cell_type": "markdown",
   "id": "f50f7d2e",
   "metadata": {},
   "source": [
    "# A BMI CALCULATOR"
   ]
  },
  {
   "cell_type": "markdown",
   "id": "fa1bed89",
   "metadata": {},
   "source": [
    "## This is a project on Body-Mass-Index (BMI) calculator\n",
    "https://mercer-health.com/services/weight-management-center/bmi-calculator#:~:text=Body%20Mass%20Index%2C%20or%20BMI,inches%20x%20height%20in%20inches"
   ]
  },
  {
   "cell_type": "markdown",
   "id": "8fcb5c79",
   "metadata": {},
   "source": [
    "### concept\n",
    "#### -the user is prompted to input their name, weight and height \n",
    "#### -then their Body Mass Iindex is calculated based on the formula #BMI = (weight in pounds x 703) / (height in inches x height in inches)\n",
    "#### -their BMI is determined based on the formula and recommendation is given to improve their health based on the result"
   ]
  },
  {
   "cell_type": "markdown",
   "id": "444027e9",
   "metadata": {},
   "source": [
    "https://mercer-health.com/services/weight-management-center/bmi-calculator#:~:text=Body%20Mass%20Index%2C%20or%20BMI,inches%20x%20height%20in%20inches"
   ]
  },
  {
   "cell_type": "code",
   "execution_count": 16,
   "id": "8989f6f8",
   "metadata": {},
   "outputs": [
    {
     "name": "stdout",
     "output_type": "stream",
     "text": [
      "Enter Your Name: Muhaemin\n",
      "Enter your weight in pounds: 143\n",
      "Enter your height in inches: 72\n",
      "19.392168209876544\n"
     ]
    }
   ],
   "source": [
    "name = str(input('Enter Your Name: '))\n",
    "           \n",
    "weight = int(input(\"Enter your weight in pounds: \"))\n",
    "\n",
    "height = int(input(\"Enter your height in inches: \"))\n",
    "\n",
    "BMI = (weight * 703)/ (height * height)\n",
    "           \n",
    "print(BMI)"
   ]
  },
  {
   "cell_type": "code",
   "execution_count": 17,
   "id": "86d43fe9",
   "metadata": {},
   "outputs": [
    {
     "name": "stdout",
     "output_type": "stream",
     "text": [
      "Muhaemin, you weigth is normal. Exercise, and maintain a good diet\n"
     ]
    }
   ],
   "source": [
    "if BMI >0:\n",
    "    if BMI < 18.5:\n",
    "        print(name +', you are underweight. You need to improve your diet')\n",
    "    elif BMI <= 24.9:\n",
    "        print(name +', you weigth is normal. Exercise, and maintain a good diet')\n",
    "    elif BMI < 29.9:\n",
    "        print(name +', you are overweight. You need to exercise often and drink more water')\n",
    "    elif BMI < 34.9:\n",
    "        print(name +', you are Obese. You need to cut down on junks, and start exercising. ')\n",
    "    elif BMI < 39.9:\n",
    "        print(name +', you are severely obese. Drastic action needed,obese people are at a risk of heart disease')\n",
    "    elif BMI >= 40:\n",
    "        print(name +', you are morbidly obese. you need to act now you may be at risk of dabetes or high blood pressure.')\n",
    "    else:\n",
    "        print('Enter a valid input')"
   ]
  },
  {
   "cell_type": "code",
   "execution_count": null,
   "id": "f06cb656",
   "metadata": {},
   "outputs": [],
   "source": []
  }
 ],
 "metadata": {
  "kernelspec": {
   "display_name": "Python 3 (ipykernel)",
   "language": "python",
   "name": "python3"
  },
  "language_info": {
   "codemirror_mode": {
    "name": "ipython",
    "version": 3
   },
   "file_extension": ".py",
   "mimetype": "text/x-python",
   "name": "python",
   "nbconvert_exporter": "python",
   "pygments_lexer": "ipython3",
   "version": "3.9.13"
  }
 },
 "nbformat": 4,
 "nbformat_minor": 5
}
